{
 "cells": [
  {
   "cell_type": "markdown",
   "id": "e6b436ea-d108-4ee9-bb77-b550e627d43b",
   "metadata": {},
   "source": [
    "# Project 2 - Part 1"
   ]
  },
  {
   "cell_type": "code",
   "execution_count": null,
   "id": "caa74073-f83b-4e33-aa3c-a6cef3f39aa7",
   "metadata": {},
   "outputs": [],
   "source": [
    "#Full Name: Hannah Ploutz"
   ]
  },
  {
   "cell_type": "markdown",
   "id": "73748a3c-7bb2-41c9-9d0a-258b56ff64bb",
   "metadata": {},
   "source": [
    "## Project Overview"
   ]
  },
  {
   "cell_type": "markdown",
   "id": "ab74a2b9-337e-4c61-8eb1-21c022026059",
   "metadata": {},
   "source": [
    "Create a notebook where you have uploaded and shown the .head() of each of your data sets. <br>\n",
    "For each of the proposed datasets, include the following information in text cells:\n",
    "1. Source of data\n",
    "\n",
    "2. Brief description of data\n",
    "\n",
    "3. What is the target?\n",
    "\n",
    "4. What does one row represent? (A person?  A business?  An event? A product?)\n",
    "\n",
    "5. Is this a classification or regression problem?\n",
    "\n",
    "6. How many features does the data have?\n",
    "\n",
    "7. How many rows are in the dataset?\n",
    "\n",
    "8. What, if any, challenges do you foresee in cleaning, exploring, or modeling this dataset?"
   ]
  },
  {
   "cell_type": "markdown",
   "id": "a28d46f3-5d7f-4411-9341-71fa76afdf0f",
   "metadata": {},
   "source": [
    "## Import Libraries"
   ]
  },
  {
   "cell_type": "code",
   "execution_count": 4,
   "id": "44216e05-6692-4410-808a-dda1aa9eeaed",
   "metadata": {},
   "outputs": [],
   "source": [
    "## Pandas\n",
    "import pandas as pd\n",
    "## Numpy\n",
    "import numpy as np\n",
    "## MatplotLib\n",
    "import matplotlib.pyplot as plt\n",
    "## Seaborn\n",
    "import seaborn as sns"
   ]
  },
  {
   "cell_type": "markdown",
   "id": "3ca88048-eb14-43cd-8d92-6adf3fcbabc4",
   "metadata": {},
   "source": [
    "## Dataset Choices"
   ]
  },
  {
   "cell_type": "markdown",
   "id": "dbdbeeee-aceb-458a-be73-5b6e90299743",
   "metadata": {},
   "source": [
    "###  First Choice: Dataset 1 - Pokemon"
   ]
  },
  {
   "attachments": {
    "2950e9db-ba2f-4625-8d64-63ffe9c03a33.png": {
     "image/png": "[encoded data removed]"
    }
   },
   "cell_type": "markdown",
   "id": "f2a5e84d-f107-4bd2-8836-dade65bd0982",
   "metadata": {},
   "source": [
    "![image.png](attachment:2950e9db-ba2f-4625-8d64-63ffe9c03a33.png)"
   ]
  },
  {
   "cell_type": "code",
   "execution_count": 10,
   "id": "f447ab6c-b2f5-4775-8dfa-16dd7ba8a23a",
   "metadata": {},
   "outputs": [],
   "source": [
    "## Load the data\n",
    "path = 'C:/Users/hgplo/iCloudDrive/Programming/Coding Dojo/Course 2/Project 2/Pokemon.csv'\n",
    "pokemon = pd.read_csv(path)"
   ]
  },
  {
   "cell_type": "code",
   "execution_count": 11,
   "id": "740c7040-02fa-4f6b-9d01-a7c3ca0fab53",
   "metadata": {},
   "outputs": [
    {
     "data": {
      "text/html": [
       "<div>\n",
       "<style scoped>\n",
       "    .dataframe tbody tr th:only-of-type {\n",
       "        vertical-align: middle;\n",
       "    }\n",
       "\n",
       "    .dataframe tbody tr th {\n",
       "        vertical-align: top;\n",
       "    }\n",
       "\n",
       "    .dataframe thead th {\n",
       "        text-align: right;\n",
       "    }\n",
       "</style>\n",
       "<table border=\"1\" class=\"dataframe\">\n",
       "  <thead>\n",
       "    <tr style=\"text-align: right;\">\n",
       "      <th></th>\n",
       "      <th>number</th>\n",
       "      <th>name</th>\n",
       "      <th>type1</th>\n",
       "      <th>type2</th>\n",
       "      <th>total</th>\n",
       "      <th>hp</th>\n",
       "      <th>attack</th>\n",
       "      <th>defense</th>\n",
       "      <th>sp_attack</th>\n",
       "      <th>sp_defense</th>\n",
       "      <th>speed</th>\n",
       "      <th>generation</th>\n",
       "      <th>legendary</th>\n",
       "    </tr>\n",
       "  </thead>\n",
       "  <tbody>\n",
       "    <tr>\n",
       "      <th>0</th>\n",
       "      <td>1</td>\n",
       "      <td>Bulbasaur</td>\n",
       "      <td>Grass</td>\n",
       "      <td>Poison</td>\n",
       "      <td>318</td>\n",
       "      <td>45</td>\n",
       "      <td>49</td>\n",
       "      <td>49</td>\n",
       "      <td>65</td>\n",
       "      <td>65</td>\n",
       "      <td>45</td>\n",
       "      <td>1</td>\n",
       "      <td>False</td>\n",
       "    </tr>\n",
       "    <tr>\n",
       "      <th>1</th>\n",
       "      <td>2</td>\n",
       "      <td>Ivysaur</td>\n",
       "      <td>Grass</td>\n",
       "      <td>Poison</td>\n",
       "      <td>405</td>\n",
       "      <td>60</td>\n",
       "      <td>62</td>\n",
       "      <td>63</td>\n",
       "      <td>80</td>\n",
       "      <td>80</td>\n",
       "      <td>60</td>\n",
       "      <td>1</td>\n",
       "      <td>False</td>\n",
       "    </tr>\n",
       "    <tr>\n",
       "      <th>2</th>\n",
       "      <td>3</td>\n",
       "      <td>Venusaur</td>\n",
       "      <td>Grass</td>\n",
       "      <td>Poison</td>\n",
       "      <td>525</td>\n",
       "      <td>80</td>\n",
       "      <td>82</td>\n",
       "      <td>83</td>\n",
       "      <td>100</td>\n",
       "      <td>100</td>\n",
       "      <td>80</td>\n",
       "      <td>1</td>\n",
       "      <td>False</td>\n",
       "    </tr>\n",
       "    <tr>\n",
       "      <th>3</th>\n",
       "      <td>3</td>\n",
       "      <td>Mega Venusaur</td>\n",
       "      <td>Grass</td>\n",
       "      <td>Poison</td>\n",
       "      <td>625</td>\n",
       "      <td>80</td>\n",
       "      <td>100</td>\n",
       "      <td>123</td>\n",
       "      <td>122</td>\n",
       "      <td>120</td>\n",
       "      <td>80</td>\n",
       "      <td>1</td>\n",
       "      <td>False</td>\n",
       "    </tr>\n",
       "    <tr>\n",
       "      <th>4</th>\n",
       "      <td>3</td>\n",
       "      <td>Gigantamax Venusaur</td>\n",
       "      <td>Grass</td>\n",
       "      <td>Poison</td>\n",
       "      <td>525</td>\n",
       "      <td>80</td>\n",
       "      <td>82</td>\n",
       "      <td>83</td>\n",
       "      <td>100</td>\n",
       "      <td>100</td>\n",
       "      <td>80</td>\n",
       "      <td>1</td>\n",
       "      <td>False</td>\n",
       "    </tr>\n",
       "  </tbody>\n",
       "</table>\n",
       "</div>"
      ],
      "text/plain": [
       "   number                 name  type1   type2  total  hp  attack  defense  \\\n",
       "0       1            Bulbasaur  Grass  Poison    318  45      49       49   \n",
       "1       2              Ivysaur  Grass  Poison    405  60      62       63   \n",
       "2       3             Venusaur  Grass  Poison    525  80      82       83   \n",
       "3       3        Mega Venusaur  Grass  Poison    625  80     100      123   \n",
       "4       3  Gigantamax Venusaur  Grass  Poison    525  80      82       83   \n",
       "\n",
       "   sp_attack  sp_defense  speed  generation  legendary  \n",
       "0         65          65     45           1      False  \n",
       "1         80          80     60           1      False  \n",
       "2        100         100     80           1      False  \n",
       "3        122         120     80           1      False  \n",
       "4        100         100     80           1      False  "
      ]
     },
     "execution_count": 11,
     "metadata": {},
     "output_type": "execute_result"
    }
   ],
   "source": [
    "## Display the first (5) rows of the dataframe\n",
    "pokemon.head()"
   ]
  },
  {
   "cell_type": "code",
   "execution_count": 12,
   "id": "2e540955-c177-4921-a745-6bcf42837279",
   "metadata": {},
   "outputs": [
    {
     "name": "stdout",
     "output_type": "stream",
     "text": [
      "There are 1072 rows, and 13 columns.\n"
     ]
    }
   ],
   "source": [
    "## Display the number of rows and columns for the dataframe\n",
    "pokemon.shape\n",
    "print(f'There are {pokemon.shape[0]} rows, and {pokemon.shape[1]} columns.')"
   ]
  },
  {
   "cell_type": "markdown",
   "id": "6ad03111-4c07-4035-b5bb-255caa1d5b46",
   "metadata": {},
   "source": [
    "1. **Source of data** <br>\n",
    " - https://data.world/data-society/pokemon-with-stats\n",
    "\n",
    "2. **Brief description of data** <br>\n",
    "`Displays Pokémon stats from 1072 pokemon, based on raw base attributes from the pokemon games`\n",
    "\n",
    "3. **What is the target?** <br>\n",
    "`The target is the type1 \"Primary Type\". To determine the type of pokemon (fire, ice, ect) based on the features`\n",
    "\n",
    "4. **What does one row represent? (A person?  A business?  An event? A product?)** <br>\n",
    "`One row represents exactly one pokemon`\n",
    "\n",
    "5. **Is this a classification or regression problem?** <br>\n",
    "`This is a classification problem`\n",
    "\n",
    "6. **How many features does the data have?** <br>\n",
    "`It has 13 columns (features)`\n",
    "\n",
    "7. **How many rows are in the dataset?** <br>\n",
    "`There are 1072 rows in the dataset`\n",
    "\n",
    "8. **What, if any, challenges do you foresee in cleaning, exploring, or modeling this dataset?** <br>\n",
    "`The challenge I can forsee with this dataset is since it does not include every single pokemon that exists today,` <br>\n",
    "`the model wont be 100% accurate due to some data that is missing. There is also some missing values in the Type_2 column,` <br> \n",
    "`since not all pokemon have a secondary type. So that column would potentially be dropped depending on analysis`"
   ]
  },
  {
   "cell_type": "markdown",
   "id": "ad18c74b-6302-4007-abf2-642bc2dacc3d",
   "metadata": {},
   "source": [
    "### Second Choice: Dataset 2 - Adult Income"
   ]
  },
  {
   "attachments": {
    "900c977f-c66a-4ac5-a6d4-e12b352c0c1c.png": {
     "image/png": "[encoded data removed]"
    }
   },
   "cell_type": "markdown",
   "id": "81624ffa-1183-4888-b88c-2a0a57369d43",
   "metadata": {},
   "source": [
    "![image.png](attachment:900c977f-c66a-4ac5-a6d4-e12b352c0c1c.png)"
   ]
  },
  {
   "cell_type": "code",
   "execution_count": 15,
   "id": "12169e47-15a8-4f05-b8a5-ba70ca7a6b4c",
   "metadata": {},
   "outputs": [],
   "source": [
    "## Load the data\n",
    "path2 = 'C:/Users/hgplo/iCloudDrive/Programming/Coding Dojo/Course 2/Project 2/adult.csv'\n",
    "adult = pd.read_csv(path2)"
   ]
  },
  {
   "cell_type": "code",
   "execution_count": 16,
   "id": "a90a0f17-60fd-4e79-b7c6-b7e19e962c84",
   "metadata": {},
   "outputs": [
    {
     "data": {
      "text/html": [
       "<div>\n",
       "<style scoped>\n",
       "    .dataframe tbody tr th:only-of-type {\n",
       "        vertical-align: middle;\n",
       "    }\n",
       "\n",
       "    .dataframe tbody tr th {\n",
       "        vertical-align: top;\n",
       "    }\n",
       "\n",
       "    .dataframe thead th {\n",
       "        text-align: right;\n",
       "    }\n",
       "</style>\n",
       "<table border=\"1\" class=\"dataframe\">\n",
       "  <thead>\n",
       "    <tr style=\"text-align: right;\">\n",
       "      <th></th>\n",
       "      <th>age</th>\n",
       "      <th>workclass</th>\n",
       "      <th>fnlwgt</th>\n",
       "      <th>education</th>\n",
       "      <th>educational-num</th>\n",
       "      <th>marital-status</th>\n",
       "      <th>occupation</th>\n",
       "      <th>relationship</th>\n",
       "      <th>race</th>\n",
       "      <th>gender</th>\n",
       "      <th>capital-gain</th>\n",
       "      <th>capital-loss</th>\n",
       "      <th>hours-per-week</th>\n",
       "      <th>native-country</th>\n",
       "      <th>income</th>\n",
       "    </tr>\n",
       "  </thead>\n",
       "  <tbody>\n",
       "    <tr>\n",
       "      <th>0</th>\n",
       "      <td>25</td>\n",
       "      <td>Private</td>\n",
       "      <td>226802</td>\n",
       "      <td>11th</td>\n",
       "      <td>7</td>\n",
       "      <td>Never-married</td>\n",
       "      <td>Machine-op-inspct</td>\n",
       "      <td>Own-child</td>\n",
       "      <td>Black</td>\n",
       "      <td>Male</td>\n",
       "      <td>0</td>\n",
       "      <td>0</td>\n",
       "      <td>40</td>\n",
       "      <td>United-States</td>\n",
       "      <td>&lt;=50K</td>\n",
       "    </tr>\n",
       "    <tr>\n",
       "      <th>1</th>\n",
       "      <td>38</td>\n",
       "      <td>Private</td>\n",
       "      <td>89814</td>\n",
       "      <td>HS-grad</td>\n",
       "      <td>9</td>\n",
       "      <td>Married-civ-spouse</td>\n",
       "      <td>Farming-fishing</td>\n",
       "      <td>Husband</td>\n",
       "      <td>White</td>\n",
       "      <td>Male</td>\n",
       "      <td>0</td>\n",
       "      <td>0</td>\n",
       "      <td>50</td>\n",
       "      <td>United-States</td>\n",
       "      <td>&lt;=50K</td>\n",
       "    </tr>\n",
       "    <tr>\n",
       "      <th>2</th>\n",
       "      <td>28</td>\n",
       "      <td>Local-gov</td>\n",
       "      <td>336951</td>\n",
       "      <td>Assoc-acdm</td>\n",
       "      <td>12</td>\n",
       "      <td>Married-civ-spouse</td>\n",
       "      <td>Protective-serv</td>\n",
       "      <td>Husband</td>\n",
       "      <td>White</td>\n",
       "      <td>Male</td>\n",
       "      <td>0</td>\n",
       "      <td>0</td>\n",
       "      <td>40</td>\n",
       "      <td>United-States</td>\n",
       "      <td>&gt;50K</td>\n",
       "    </tr>\n",
       "    <tr>\n",
       "      <th>3</th>\n",
       "      <td>44</td>\n",
       "      <td>Private</td>\n",
       "      <td>160323</td>\n",
       "      <td>Some-college</td>\n",
       "      <td>10</td>\n",
       "      <td>Married-civ-spouse</td>\n",
       "      <td>Machine-op-inspct</td>\n",
       "      <td>Husband</td>\n",
       "      <td>Black</td>\n",
       "      <td>Male</td>\n",
       "      <td>7688</td>\n",
       "      <td>0</td>\n",
       "      <td>40</td>\n",
       "      <td>United-States</td>\n",
       "      <td>&gt;50K</td>\n",
       "    </tr>\n",
       "    <tr>\n",
       "      <th>4</th>\n",
       "      <td>18</td>\n",
       "      <td>?</td>\n",
       "      <td>103497</td>\n",
       "      <td>Some-college</td>\n",
       "      <td>10</td>\n",
       "      <td>Never-married</td>\n",
       "      <td>?</td>\n",
       "      <td>Own-child</td>\n",
       "      <td>White</td>\n",
       "      <td>Female</td>\n",
       "      <td>0</td>\n",
       "      <td>0</td>\n",
       "      <td>30</td>\n",
       "      <td>United-States</td>\n",
       "      <td>&lt;=50K</td>\n",
       "    </tr>\n",
       "  </tbody>\n",
       "</table>\n",
       "</div>"
      ],
      "text/plain": [
       "   age  workclass  fnlwgt     education  educational-num      marital-status  \\\n",
       "0   25    Private  226802          11th                7       Never-married   \n",
       "1   38    Private   89814       HS-grad                9  Married-civ-spouse   \n",
       "2   28  Local-gov  336951    Assoc-acdm               12  Married-civ-spouse   \n",
       "3   44    Private  160323  Some-college               10  Married-civ-spouse   \n",
       "4   18          ?  103497  Some-college               10       Never-married   \n",
       "\n",
       "          occupation relationship   race  gender  capital-gain  capital-loss  \\\n",
       "0  Machine-op-inspct    Own-child  Black    Male             0             0   \n",
       "1    Farming-fishing      Husband  White    Male             0             0   \n",
       "2    Protective-serv      Husband  White    Male             0             0   \n",
       "3  Machine-op-inspct      Husband  Black    Male          7688             0   \n",
       "4                  ?    Own-child  White  Female             0             0   \n",
       "\n",
       "   hours-per-week native-country income  \n",
       "0              40  United-States  <=50K  \n",
       "1              50  United-States  <=50K  \n",
       "2              40  United-States   >50K  \n",
       "3              40  United-States   >50K  \n",
       "4              30  United-States  <=50K  "
      ]
     },
     "execution_count": 16,
     "metadata": {},
     "output_type": "execute_result"
    }
   ],
   "source": [
    "## Display the first (5) rows of the dataframe\n",
    "adult.head()"
   ]
  },
  {
   "cell_type": "code",
   "execution_count": 18,
   "id": "8ae230c0-e236-4db2-b78b-02462fa8c1ce",
   "metadata": {},
   "outputs": [
    {
     "name": "stdout",
     "output_type": "stream",
     "text": [
      "There are 48842 rows, and 15 columns.\n"
     ]
    }
   ],
   "source": [
    "## Display the number of rows and columns for the dataframe\n",
    "adult.shape\n",
    "print(f'There are {adult.shape[0]} rows, and {adult.shape[1]} columns.')"
   ]
  },
  {
   "cell_type": "markdown",
   "id": "1cdff3c0-ed34-493e-b1dd-56a949fff1ea",
   "metadata": {},
   "source": [
    "1. **Source of data** <br>\n",
    " - https://www.kaggle.com/datasets/wenruliu/adult-income-dataset\n",
    "\n",
    "2. **Brief description of data** <br>\n",
    "`An individual’s annual income results from various factors.`<br>\n",
    "`Intuitively, it is influenced by the individual’s education level, age, gender, occupation, and etc.`\n",
    "\n",
    "3. **What is the target?** <br>\n",
    "`The target is the Income column - two classes, <=50K and >50K`\n",
    "\n",
    "4. **What does one row represent? (A person?  A business?  An event? A product?)** <br>\n",
    "`One row represents exactly one person`\n",
    "\n",
    "5. **Is this a classification or regression problem?** <br>\n",
    "`This is a classification problem`\n",
    "\n",
    "6. **How many features does the data have?** <br>\n",
    "`It has 15 columns (features)`\n",
    "\n",
    "7. **How many rows are in the dataset?** <br>\n",
    "`There are 48842 rows in the dataset`\n",
    "\n",
    "8. **What, if any, challenges do you foresee in cleaning, exploring, or modeling this dataset?** <br>\n",
    "`The challenge I can potentially forsee with this dataset is a large amount of rows, so potentially a large amount of cleaning.` <br>\n",
    "`There are also a lot of categorical columns, so there may be some typos that would need to be dealt with during cleaning as well`"
   ]
  },
  {
   "cell_type": "code",
   "execution_count": null,
   "id": "1ed57187-052a-4b30-8a42-ce4481a5e4ee",
   "metadata": {},
   "outputs": [],
   "source": []
  }
 ],
 "metadata": {
  "kernelspec": {
   "display_name": "Python (dojo-env)",
   "language": "python",
   "name": "dojo-env"
  },
  "language_info": {
   "codemirror_mode": {
    "name": "ipython",
    "version": 3
   },
   "file_extension": ".py",
   "mimetype": "text/x-python",
   "name": "python",
   "nbconvert_exporter": "python",
   "pygments_lexer": "ipython3",
   "version": "3.9.15"
  }
 },
 "nbformat": 4,
 "nbformat_minor": 5
}
